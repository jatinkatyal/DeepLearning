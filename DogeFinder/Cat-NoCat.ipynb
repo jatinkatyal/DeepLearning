{
 "cells": [
  {
   "cell_type": "markdown",
   "id": "pregnant-supplier",
   "metadata": {},
   "source": [
    "This is the code to classify(binary) images as cat or dogs using logistic neural classifier."
   ]
  },
  {
   "cell_type": "markdown",
   "id": "compatible-popularity",
   "metadata": {},
   "source": [
    "Importing some required packages."
   ]
  },
  {
   "cell_type": "code",
   "execution_count": 1,
   "id": "developed-american",
   "metadata": {},
   "outputs": [],
   "source": [
    "import torch\n",
    "import h5py\n",
    "import cv2\n",
    "from matplotlib import pyplot as plt\n",
    "\n",
    "import pathlib\n",
    "import os"
   ]
  },
  {
   "cell_type": "code",
   "execution_count": 2,
   "id": "spanish-industry",
   "metadata": {},
   "outputs": [
    {
     "name": "stdout",
     "output_type": "stream",
     "text": [
      "Will use cuda\n"
     ]
    }
   ],
   "source": [
    "device = torch.device('cuda' if torch.cuda.is_available() else 'cpu')\n",
    "print('Will use {}'.format(device))"
   ]
  },
  {
   "cell_type": "markdown",
   "id": "becoming-functionality",
   "metadata": {},
   "source": [
    "Reading images and converting to RGB channels, also resizing to 64x64 size."
   ]
  },
  {
   "cell_type": "code",
   "execution_count": 3,
   "id": "amateur-implementation",
   "metadata": {},
   "outputs": [
    {
     "name": "stdout",
     "output_type": "stream",
     "text": [
      "<KeysViewHDF5 ['list_classes', 'train_set_x', 'train_set_y']>\n"
     ]
    }
   ],
   "source": [
    "train_data_hf =  h5py.File('train_catvnoncat.h5', 'r')\n",
    "print(train_data_hf.keys())\n",
    "train_x = torch.tensor(train_data_hf.get('train_set_x'))\n",
    "train_y = torch.tensor(train_data_hf.get('train_set_y'))"
   ]
  },
  {
   "cell_type": "code",
   "execution_count": 4,
   "id": "ecological-pitch",
   "metadata": {},
   "outputs": [
    {
     "data": {
      "text/plain": [
       "<matplotlib.image.AxesImage at 0x22f6ef70160>"
      ]
     },
     "execution_count": 4,
     "metadata": {},
     "output_type": "execute_result"
    },
    {
     "data": {
      "image/png": "[encoded data removed]",
      "text/plain": [
       "<Figure size 432x288 with 1 Axes>"
      ]
     },
     "metadata": {
      "needs_background": "light"
     },
     "output_type": "display_data"
    }
   ],
   "source": [
    "plt.imshow(train_x[2])"
   ]
  },
  {
   "cell_type": "code",
   "execution_count": 5,
   "id": "sixth-polymer",
   "metadata": {},
   "outputs": [],
   "source": [
    "train_x = train_x.to(device)\n",
    "train_y = train_y.to(device)"
   ]
  },
  {
   "cell_type": "code",
   "execution_count": 6,
   "id": "intimate-greensboro",
   "metadata": {},
   "outputs": [
    {
     "data": {
      "text/plain": [
       "(torch.Size([12288, 209]), torch.Size([1, 209]))"
      ]
     },
     "execution_count": 6,
     "metadata": {},
     "output_type": "execute_result"
    }
   ],
   "source": [
    "m,w,h,c = train_x.shape\n",
    "n = w*h*c\n",
    "train_x = train_x.reshape(m,n).T\n",
    "train_y = train_y.reshape(1,m)\n",
    "train_x.shape, train_y.shape"
   ]
  },
  {
   "cell_type": "code",
   "execution_count": 7,
   "id": "fluid-journal",
   "metadata": {},
   "outputs": [],
   "source": [
    "train_x = train_x/255"
   ]
  },
  {
   "cell_type": "markdown",
   "id": "common-receiver",
   "metadata": {},
   "source": [
    "Here i the model which will be used."
   ]
  },
  {
   "cell_type": "code",
   "execution_count": 8,
   "id": "grand-filename",
   "metadata": {},
   "outputs": [],
   "source": [
    "learning_rate = 0.00005"
   ]
  },
  {
   "cell_type": "code",
   "execution_count": 9,
   "id": "urban-grocery",
   "metadata": {},
   "outputs": [],
   "source": [
    "class Model:\n",
    "    def __init__(self,features,learning_rate,device):\n",
    "        torch.manual_seed(7)\n",
    "        self.w1 = torch.rand((7,features),requires_grad=True,device=device)\n",
    "        self.b1 = torch.zeros((7,1),requires_grad=True,device=device)\n",
    "        self.w2 = torch.rand((1,7),requires_grad=True,device=device)\n",
    "        self.b2 = torch.zeros((1,1),requires_grad=True,device=device)\n",
    "        self.learning_rate = learning_rate\n",
    "    \n",
    "    def forward_pass(self,X):\n",
    "        self.Z1 = torch.matmul(self.w1,X.float()) + self.b1\n",
    "        self.A1 = self.sigmoidActivation(self.Z1)\n",
    "        \n",
    "        self.Z2 = torch.matmul(self.w2,self.A1) + self.b2\n",
    "        self.A2 = self.sigmoidActivation(self.Z2)\n",
    "        return self.A2\n",
    "    \n",
    "    def compute_cost(self,Y):\n",
    "        return -1/Y.shape[1]*( torch.matmul(Y.float(),torch.log(self.A2).T) + torch.matmul(1-Y.float(),torch.log(1-self.A2).T))\n",
    "    \n",
    "    def back_pass(self):      \n",
    "        with torch.no_grad():\n",
    "            self.w2 = self.w2 - self.learning_rate*self.w2.grad\n",
    "            self.b2 = self.b2 - self.learning_rate*self.b2.grad\n",
    "            self.w1 = self.w1 - self.learning_rate*self.w1.grad\n",
    "            self.b1 = self.b1 - self.learning_rate*self.b1.grad\n",
    "            \n",
    "        \n",
    "        self.w1.requires_grad=True\n",
    "        self.b1.requires_grad=True\n",
    "        self.w2.requires_grad=True\n",
    "        self.b2.requires_grad=True\n",
    "        \n",
    "        #self.w1.grad.data.zero_()\n",
    "        #self.b1.grad.zero_()\n",
    "        #self.w2.grad.zero_()\n",
    "        #self.b2.grad.zero_()\n",
    "        \n",
    "    def predict(self, X):\n",
    "        return self.forward_pass(X)>0.5\n",
    "    \n",
    "    def sigmoidActivation(self,Z):\n",
    "        return 1/(1+torch.exp(-Z))\n",
    "    \n",
    "    def reluActivation(self,Z):\n",
    "        return torch.maximum(torch.Tensor([0]).to(torch.device('cuda' if torch.cuda.is_available() else 'cpu')),Z)\n",
    "    \n",
    "    def getParams(self):\n",
    "        return {'w1':self.w1, 'b1':self.b1,'w2':self.w2, 'b2':self.b2,\n",
    "                'w3':self.w3, 'b3':self.b3,'w4':self.w4, 'b4':self.b4,\n",
    "                'learning_rate':self.learning_rate\n",
    "               }\n",
    "    \n",
    "    \n",
    "    def getGrads(self):\n",
    "        return {'dw1':self.w1.grad, 'db1':self.b1.grad,'dw2':self.w2.grad, 'db2':self.b2.grad,\n",
    "               'dw3':self.w3.grad, 'db3':self.b3.grad,'dw4':self.w4.grad, 'db4':self.b4.grad\n",
    "               }"
   ]
  },
  {
   "cell_type": "code",
   "execution_count": 10,
   "id": "listed-carpet",
   "metadata": {},
   "outputs": [],
   "source": [
    "classifier = Model(n,learning_rate,device)\n",
    "costs=[]"
   ]
  },
  {
   "cell_type": "code",
   "execution_count": 14,
   "id": "honest-aruba",
   "metadata": {},
   "outputs": [
    {
     "ename": "RuntimeError",
     "evalue": "CUDA out of memory. Tried to allocate 2.00 MiB (GPU 0; 4.00 GiB total capacity; 2.76 GiB already allocated; 0 bytes free; 2.80 GiB reserved in total by PyTorch)",
     "output_type": "error",
     "traceback": [
      "\u001b[1;31m---------------------------------------------------------------------------\u001b[0m",
      "\u001b[1;31mRuntimeError\u001b[0m                              Traceback (most recent call last)",
      "\u001b[1;32m<ipython-input-14-a79785873ff2>\u001b[0m in \u001b[0;36m<module>\u001b[1;34m\u001b[0m\n\u001b[0;32m      4\u001b[0m     \u001b[0mcosts\u001b[0m\u001b[1;33m.\u001b[0m\u001b[0mappend\u001b[0m\u001b[1;33m(\u001b[0m\u001b[0mcost\u001b[0m\u001b[1;33m)\u001b[0m\u001b[1;33m\u001b[0m\u001b[1;33m\u001b[0m\u001b[0m\n\u001b[0;32m      5\u001b[0m     \u001b[0mcost\u001b[0m\u001b[1;33m.\u001b[0m\u001b[0mbackward\u001b[0m\u001b[1;33m(\u001b[0m\u001b[1;33m)\u001b[0m\u001b[1;33m\u001b[0m\u001b[1;33m\u001b[0m\u001b[0m\n\u001b[1;32m----> 6\u001b[1;33m     \u001b[0mclassifier\u001b[0m\u001b[1;33m.\u001b[0m\u001b[0mback_pass\u001b[0m\u001b[1;33m(\u001b[0m\u001b[1;33m)\u001b[0m\u001b[1;33m\u001b[0m\u001b[1;33m\u001b[0m\u001b[0m\n\u001b[0m\u001b[0;32m      7\u001b[0m \u001b[0mplt\u001b[0m\u001b[1;33m.\u001b[0m\u001b[0mplot\u001b[0m\u001b[1;33m(\u001b[0m\u001b[0mcosts\u001b[0m\u001b[1;33m)\u001b[0m\u001b[1;33m\u001b[0m\u001b[1;33m\u001b[0m\u001b[0m\n",
      "\u001b[1;32m<ipython-input-9-116a72ce3927>\u001b[0m in \u001b[0;36mback_pass\u001b[1;34m(self)\u001b[0m\n\u001b[0;32m     23\u001b[0m             \u001b[0mself\u001b[0m\u001b[1;33m.\u001b[0m\u001b[0mw2\u001b[0m \u001b[1;33m=\u001b[0m \u001b[0mself\u001b[0m\u001b[1;33m.\u001b[0m\u001b[0mw2\u001b[0m \u001b[1;33m-\u001b[0m \u001b[0mself\u001b[0m\u001b[1;33m.\u001b[0m\u001b[0mlearning_rate\u001b[0m\u001b[1;33m*\u001b[0m\u001b[0mself\u001b[0m\u001b[1;33m.\u001b[0m\u001b[0mw2\u001b[0m\u001b[1;33m.\u001b[0m\u001b[0mgrad\u001b[0m\u001b[1;33m\u001b[0m\u001b[1;33m\u001b[0m\u001b[0m\n\u001b[0;32m     24\u001b[0m             \u001b[0mself\u001b[0m\u001b[1;33m.\u001b[0m\u001b[0mb2\u001b[0m \u001b[1;33m=\u001b[0m \u001b[0mself\u001b[0m\u001b[1;33m.\u001b[0m\u001b[0mb2\u001b[0m \u001b[1;33m-\u001b[0m \u001b[0mself\u001b[0m\u001b[1;33m.\u001b[0m\u001b[0mlearning_rate\u001b[0m\u001b[1;33m*\u001b[0m\u001b[0mself\u001b[0m\u001b[1;33m.\u001b[0m\u001b[0mb2\u001b[0m\u001b[1;33m.\u001b[0m\u001b[0mgrad\u001b[0m\u001b[1;33m\u001b[0m\u001b[1;33m\u001b[0m\u001b[0m\n\u001b[1;32m---> 25\u001b[1;33m             \u001b[0mself\u001b[0m\u001b[1;33m.\u001b[0m\u001b[0mw1\u001b[0m \u001b[1;33m=\u001b[0m \u001b[0mself\u001b[0m\u001b[1;33m.\u001b[0m\u001b[0mw1\u001b[0m \u001b[1;33m-\u001b[0m \u001b[0mself\u001b[0m\u001b[1;33m.\u001b[0m\u001b[0mlearning_rate\u001b[0m\u001b[1;33m*\u001b[0m\u001b[0mself\u001b[0m\u001b[1;33m.\u001b[0m\u001b[0mw1\u001b[0m\u001b[1;33m.\u001b[0m\u001b[0mgrad\u001b[0m\u001b[1;33m\u001b[0m\u001b[1;33m\u001b[0m\u001b[0m\n\u001b[0m\u001b[0;32m     26\u001b[0m             \u001b[0mself\u001b[0m\u001b[1;33m.\u001b[0m\u001b[0mb1\u001b[0m \u001b[1;33m=\u001b[0m \u001b[0mself\u001b[0m\u001b[1;33m.\u001b[0m\u001b[0mb1\u001b[0m \u001b[1;33m-\u001b[0m \u001b[0mself\u001b[0m\u001b[1;33m.\u001b[0m\u001b[0mlearning_rate\u001b[0m\u001b[1;33m*\u001b[0m\u001b[0mself\u001b[0m\u001b[1;33m.\u001b[0m\u001b[0mb1\u001b[0m\u001b[1;33m.\u001b[0m\u001b[0mgrad\u001b[0m\u001b[1;33m\u001b[0m\u001b[1;33m\u001b[0m\u001b[0m\n\u001b[0;32m     27\u001b[0m \u001b[1;33m\u001b[0m\u001b[0m\n",
      "\u001b[1;31mRuntimeError\u001b[0m: CUDA out of memory. Tried to allocate 2.00 MiB (GPU 0; 4.00 GiB total capacity; 2.76 GiB already allocated; 0 bytes free; 2.80 GiB reserved in total by PyTorch)"
     ]
    }
   ],
   "source": [
    "for i in range(10000):\n",
    "    Y_hat = classifier.forward_pass(train_x)\n",
    "    cost = classifier.compute_cost(train_y)\n",
    "    costs.append(cost)\n",
    "    cost.backward()\n",
    "    classifier.back_pass()\n",
    "plt.plot(costs)"
   ]
  },
  {
   "cell_type": "code",
   "execution_count": 12,
   "id": "saved-quantum",
   "metadata": {},
   "outputs": [
    {
     "data": {
      "text/plain": [
       "tensor([[0, 0, 0, 0, 0, 0, 0, 0, 0, 0, 0, 0, 0, 0, 0, 0, 0, 0, 0, 0, 0, 0, 0, 0,\n",
       "         0, 0, 0, 0, 0, 0, 0, 0, 0, 0, 0, 0, 0, 0, 0, 0, 0, 0, 0, 0, 0, 0, 0, 0,\n",
       "         0, 0, 0, 0, 0, 0, 0, 0, 0, 0, 0, 0, 0, 0, 0, 0, 0, 0, 0, 0, 0, 0, 0, 0,\n",
       "         0, 0, 0, 0, 0, 0, 0, 0, 0, 0, 0, 0, 0, 0, 0, 0, 0, 0, 0, 0, 0, 0, 0, 0,\n",
       "         0, 0, 0, 0, 0, 0, 0, 0, 0, 0, 0, 0, 0, 0, 0, 0, 0, 0, 0, 0, 0, 0, 0, 0,\n",
       "         0, 0, 0, 0, 0, 0, 0, 0, 0, 0, 0, 0, 0, 0, 0, 0, 0, 0, 0, 0, 0, 0, 0, 0,\n",
       "         0, 0, 0, 0, 0, 0, 0, 0, 0, 0, 0, 0, 0, 0, 0, 0, 0, 0, 0, 0, 0, 0, 0, 0,\n",
       "         0, 0, 0, 0, 0, 0, 0, 0, 0, 0, 0, 0, 0, 0, 0, 0, 0, 0, 0, 0, 0, 0, 0, 0,\n",
       "         0, 0, 0, 0, 0, 0, 0, 0, 0, 0, 0, 0, 0, 0, 0, 0, 0]], device='cuda:0',\n",
       "       dtype=torch.int32)"
      ]
     },
     "execution_count": 12,
     "metadata": {},
     "output_type": "execute_result"
    }
   ],
   "source": [
    "classifier.forward_pass(train_x).int()"
   ]
  },
  {
   "cell_type": "code",
   "execution_count": 13,
   "id": "remarkable-difference",
   "metadata": {},
   "outputs": [],
   "source": [
    "class Model2:\n",
    "    def __init__(self,features,learning_rate,device):\n",
    "        self.w1 = torch.rand((20,features),requires_grad=True,device=device)\n",
    "        self.b1 = torch.zeros((20,1),requires_grad=True,device=device)\n",
    "        self.w2 = torch.rand((7,20),requires_grad=True,device=device)\n",
    "        self.b2 = torch.zeros((7,1),requires_grad=True,device=device)\n",
    "        self.w3 = torch.rand((5,7),requires_grad=True,device=device)\n",
    "        self.b3 = torch.zeros((5,1),requires_grad=True,device=device)\n",
    "        self.w4 = torch.rand((1,5),requires_grad=True,device=device)\n",
    "        self.b4 = torch.zeros((1,1),requires_grad=True,device=device)\n",
    "        self.learning_rate = learning_rate\n",
    "    \n",
    "    def forward_pass(self,X):\n",
    "        self.Z1 = torch.matmul(self.w1,X.float()) + self.b1\n",
    "        self.A1 = self.sigmoidActivation(self.Z1)\n",
    "        \n",
    "        self.Z2 = torch.matmul(self.w2,self.A1) + self.b2\n",
    "        self.A2 = self.sigmoidActivation(self.Z2)\n",
    "        \n",
    "        self.Z3 = torch.matmul(self.w3,self.A2) + self.b3\n",
    "        self.A3 = self.sigmoidActivation(self.Z3)\n",
    "        \n",
    "        self.Z4 = torch.matmul(self.w4,self.A3) + self.b4\n",
    "        self.A4 = self.sigmoidActivation(self.Z4)\n",
    "        return self.A4\n",
    "    \n",
    "    def compute_cost(self,Y):\n",
    "        return -1/Y.shape[1]*( torch.matmul(Y.float(),torch.log(self.A4).T) + torch.matmul(1-Y.float(),torch.log(1-self.A4).T))\n",
    "    \n",
    "    def back_pass(self):      \n",
    "        with torch.no_grad():\n",
    "            self.w4 = self.w4 - self.learning_rate*self.w4.grad\n",
    "            self.b4 = self.b4 - self.learning_rate*self.b4.grad\n",
    "            self.w3 = self.w3 - self.learning_rate*self.w3.grad\n",
    "            self.b3 = self.b3 - self.learning_rate*self.b3.grad\n",
    "            self.w2 = self.w2 - self.learning_rate*self.w2.grad\n",
    "            self.b2 = self.b2 - self.learning_rate*self.b2.grad\n",
    "            self.w1 = self.w1 - self.learning_rate*self.w1.grad\n",
    "            self.b1 = self.b1 - self.learning_rate*self.b1.grad\n",
    "            \n",
    "        \n",
    "        self.w1.requires_grad=True\n",
    "        self.b1.requires_grad=True\n",
    "        self.w2.requires_grad=True\n",
    "        self.b2.requires_grad=True\n",
    "        self.w3.requires_grad=True\n",
    "        self.b3.requires_grad=True\n",
    "        self.w4.requires_grad=True\n",
    "        self.b4.requires_grad=True\n",
    "        \n",
    "        #self.w1.grad.data.zero_()\n",
    "        #self.b1.grad.zero_()\n",
    "        #self.w2.grad.zero_()\n",
    "        #self.b2.grad.zero_()\n",
    "        \n",
    "    def predict(self, X):\n",
    "        return self.forward_pass(X)>0.5\n",
    "    \n",
    "    def sigmoidActivation(self,Z):\n",
    "        return 1/(1+torch.exp(-Z))\n",
    "    \n",
    "    def leakyReLUActivation(self,Z):\n",
    "        return torch.maximum(0.001*Z,Z)\n",
    "    \n",
    "    def getParams(self):\n",
    "        return {'w1':self.w1, 'b1':self.b1,'w2':self.w2, 'b2':self.b2,\n",
    "                'w3':self.w3, 'b3':self.b3,'w4':self.w4, 'b4':self.b4,\n",
    "                'learning_rate':self.learning_rate\n",
    "               }\n",
    "    \n",
    "    \n",
    "    def getGrads(self):\n",
    "        return {'dw1':self.w1.grad, 'db1':self.b1.grad,'dw2':self.w2.grad, 'db2':self.b2.grad,\n",
    "               'dw3':self.w3.grad, 'db3':self.b3.grad,'dw4':self.w4.grad, 'db4':self.b4.grad\n",
    "               }"
   ]
  }
 ],
 "metadata": {
  "kernelspec": {
   "display_name": "Python 3",
   "language": "python",
   "name": "python3"
  },
  "language_info": {
   "codemirror_mode": {
    "name": "ipython",
    "version": 3
   },
   "file_extension": ".py",
   "mimetype": "text/x-python",
   "name": "python",
   "nbconvert_exporter": "python",
   "pygments_lexer": "ipython3",
   "version": "3.8.5"
  }
 },
 "nbformat": 4,
 "nbformat_minor": 5
}
