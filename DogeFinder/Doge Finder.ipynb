{
 "cells": [
  {
   "cell_type": "markdown",
   "id": "pregnant-supplier",
   "metadata": {},
   "source": [
    "This is the code to classify(binary) images as cat or dogs using logistic neural classifier."
   ]
  },
  {
   "cell_type": "markdown",
   "id": "compatible-popularity",
   "metadata": {},
   "source": [
    "Importing some required packages."
   ]
  },
  {
   "cell_type": "code",
   "execution_count": 5,
   "id": "developed-american",
   "metadata": {},
   "outputs": [],
   "source": [
    "import torch\n",
    "import h5py\n",
    "import cv2\n",
    "from matplotlib import pyplot as plt\n",
    "\n",
    "import pathlib\n",
    "import os"
   ]
  },
  {
   "cell_type": "markdown",
   "id": "becoming-functionality",
   "metadata": {},
   "source": [
    "Reading images and converting to RGB channels, also resizing to 64x64 size."
   ]
  },
  {
   "cell_type": "code",
   "execution_count": 6,
   "id": "important-pennsylvania",
   "metadata": {},
   "outputs": [
    {
     "name": "stdout",
     "output_type": "stream",
     "text": [
      "Will use cuda\n"
     ]
    }
   ],
   "source": [
    "device = torch.device('cuda' if torch.cuda.is_available() else 'cpu')\n",
    "print('Will use {}'.format(device))"
   ]
  },
  {
   "cell_type": "code",
   "execution_count": 7,
   "id": "legitimate-awareness",
   "metadata": {},
   "outputs": [
    {
     "name": "stdout",
     "output_type": "stream",
     "text": [
      "Training data shape for cats:- X:torch.Size([209, 64, 64, 3]) Y:torch.Size([1, 209])\n"
     ]
    }
   ],
   "source": [
    "X_train_cats = [cv2.imread('Data/training_set/cats/small/'+img) for img in os.listdir('Data/training_set/cats/small')]\n",
    "X_train_cats = [cv2.cvtColor(img,cv2.COLOR_BGR2RGB) for img in X_train_cats]\n",
    "X_train_cats = [cv2.resize(img,(64,64)) for img in X_train_cats]\n",
    "X_train_cats = torch.Tensor(X_train_cats)\n",
    "X_train_cats = X_train_cats/255\n",
    "Y_train_cats = torch.zeros((1,X_train_cats.shape[0]))\n",
    "print('Training data shape for cats:- X:{0} Y:{1}'.format(X_train_cats.shape,Y_train_cats.shape))"
   ]
  },
  {
   "cell_type": "code",
   "execution_count": 8,
   "id": "rapid-customs",
   "metadata": {},
   "outputs": [
    {
     "name": "stdout",
     "output_type": "stream",
     "text": [
      "Training data shape for dogs:- X:torch.Size([209, 64, 64, 3]) Y:torch.Size([1, 209])\n"
     ]
    }
   ],
   "source": [
    "X_train_dogs = [cv2.imread('Data/training_set/dogs/small/'+img) for img in os.listdir('Data/training_set/dogs/small')]\n",
    "X_train_dogs = [cv2.cvtColor(img,cv2.COLOR_BGR2RGB) for img in X_train_dogs]\n",
    "X_train_dogs = [cv2.resize(img,(64,64)) for img in X_train_dogs]\n",
    "X_train_dogs = torch.Tensor(X_train_dogs)\n",
    "X_train_dogs = X_train_dogs/255\n",
    "Y_train_dogs = torch.ones((1,X_train_dogs.shape[0]))\n",
    "print('Training data shape for dogs:- X:{0} Y:{1}'.format(X_train_dogs.shape,Y_train_dogs.shape))"
   ]
  },
  {
   "cell_type": "code",
   "execution_count": 9,
   "id": "addressed-halifax",
   "metadata": {},
   "outputs": [
    {
     "name": "stdout",
     "output_type": "stream",
     "text": [
      "Training data shape:- X:torch.Size([12288, 418]) Y:torch.Size([1, 418])\n"
     ]
    }
   ],
   "source": [
    "X_train = torch.cat((X_train_cats,X_train_dogs))\n",
    "m,h,w,c = list(X_train.shape)\n",
    "n=h*w*c\n",
    "X_train = torch.reshape(X_train,(m,n)).T\n",
    "\n",
    "Y_train = torch.cat((Y_train_cats.int(),Y_train_dogs.int()),dim=1)\n",
    "Y_train = torch.reshape(Y_train,(m,1)).T\n",
    "\n",
    "print('Training data shape:- X:{0} Y:{1}'.format(X_train.shape,Y_train.shape))"
   ]
  },
  {
   "cell_type": "code",
   "execution_count": 10,
   "id": "comfortable-position",
   "metadata": {},
   "outputs": [
    {
     "data": {
      "text/plain": [
       "<matplotlib.image.AxesImage at 0x261b911a250>"
      ]
     },
     "execution_count": 10,
     "metadata": {},
     "output_type": "execute_result"
    },
    {
     "data": {
      "image/png": "[encoded data removed]",
      "text/plain": [
       "<Figure size 432x288 with 1 Axes>"
      ]
     },
     "metadata": {
      "needs_background": "light"
     },
     "output_type": "display_data"
    }
   ],
   "source": [
    "img  = torch.reshape(X_train[:,379],(h,w,c))\n",
    "plt.imshow(img.numpy())"
   ]
  },
  {
   "cell_type": "code",
   "execution_count": 11,
   "id": "lucky-chain",
   "metadata": {},
   "outputs": [],
   "source": [
    "X_train = X_train.to(device)\n",
    "Y_train = Y_train.to(device)"
   ]
  },
  {
   "cell_type": "markdown",
   "id": "common-receiver",
   "metadata": {},
   "source": [
    "Here i the model which will be used."
   ]
  },
  {
   "cell_type": "code",
   "execution_count": 12,
   "id": "grand-filename",
   "metadata": {},
   "outputs": [],
   "source": [
    "learning_rate = 0.0075"
   ]
  },
  {
   "cell_type": "code",
   "execution_count": 13,
   "id": "swiss-steam",
   "metadata": {},
   "outputs": [],
   "source": [
    "class Model:\n",
    "    def __init__(self,shape,learning_rate):\n",
    "        self.w1 = torch.rand((7,shape),requires_grad=True)\n",
    "        self.b1 = torch.zeros((7,1),requires_grad=True)\n",
    "        self.w2 = torch.rand((1,7),requires_grad=True)\n",
    "        self.b2 = torch.zeros((1,1),requires_grad=True)\n",
    "        self.learning_rate = learning_rate\n",
    "    \n",
    "    def forward_pass(self,X):\n",
    "        self.Z1 = torch.matmul(self.w1,X) + self.b1 #3xm\n",
    "        self.A1 = self.sigmoidActivation(self.Z1)\n",
    "        \n",
    "        self.Z2 = torch.mm(self.w2,self.A1) + self.b2 #1xm\n",
    "        self.A2 = self.sigmoidActivation(self.Z2)\n",
    "        return self.A2\n",
    "    \n",
    "    def compute_cost(self,Y):\n",
    "        return -( torch.matmul(Y,torch.log(self.A2).T) + torch.matmul(1-Y,torch.log(1-self.A2).T))/Y.shape[0]\n",
    "    \n",
    "    def back_pass(self):      \n",
    "        with torch.no_grad():\n",
    "            self.w2 = self.w2 - self.learning_rate*self.w2.grad\n",
    "            self.b2 = self.b2 - self.learning_rate*self.b2.grad\n",
    "            self.w1 = self.w1 - self.learning_rate*self.w1.grad\n",
    "            self.b1 = self.b1 - self.learning_rate*self.b1.grad\n",
    "            \n",
    "        self.w1.requires_grad=True\n",
    "        self.b1.requires_grad=True\n",
    "        self.w2.requires_grad=True\n",
    "        self.b2.requires_grad=True\n",
    "            \n",
    "        #self.w1.grad.zero_()\n",
    "        #self.b1.grad.zero_()\n",
    "        #self.w2.grad.zero_()\n",
    "        #self.b2.grad.zero_()\n",
    "        \n",
    "    def predict(self, X):\n",
    "        return self.forward_pass(X)\n",
    "    \n",
    "    def sigmoidActivation(self,Z):\n",
    "        return 1/(1+torch.exp(-Z))\n",
    "    \n",
    "    def reluActivation(self,Z):\n",
    "        return torch.maximum(torch.Tensor([0]),Z)"
   ]
  },
  {
   "cell_type": "code",
   "execution_count": 15,
   "id": "listed-carpet",
   "metadata": {},
   "outputs": [
    {
     "ename": "TypeError",
     "evalue": "__init__() takes 3 positional arguments but 4 were given",
     "output_type": "error",
     "traceback": [
      "\u001b[1;31m---------------------------------------------------------------------------\u001b[0m",
      "\u001b[1;31mTypeError\u001b[0m                                 Traceback (most recent call last)",
      "\u001b[1;32m<ipython-input-15-6089001eb1ee>\u001b[0m in \u001b[0;36m<module>\u001b[1;34m\u001b[0m\n\u001b[1;32m----> 1\u001b[1;33m \u001b[0mfinder\u001b[0m \u001b[1;33m=\u001b[0m \u001b[0mModel\u001b[0m\u001b[1;33m(\u001b[0m\u001b[0mn\u001b[0m\u001b[1;33m,\u001b[0m\u001b[0mlearning_rate\u001b[0m\u001b[1;33m,\u001b[0m\u001b[0mdevice\u001b[0m\u001b[1;33m)\u001b[0m\u001b[1;33m\u001b[0m\u001b[1;33m\u001b[0m\u001b[0m\n\u001b[0m\u001b[0;32m      2\u001b[0m \u001b[0mcosts\u001b[0m\u001b[1;33m=\u001b[0m\u001b[1;33m[\u001b[0m\u001b[1;33m]\u001b[0m\u001b[1;33m\u001b[0m\u001b[1;33m\u001b[0m\u001b[0m\n",
      "\u001b[1;31mTypeError\u001b[0m: __init__() takes 3 positional arguments but 4 were given"
     ]
    }
   ],
   "source": [
    "finder = Model(n,learning_rate,device)\n",
    "costs=[]"
   ]
  },
  {
   "cell_type": "code",
   "execution_count": null,
   "id": "honest-aruba",
   "metadata": {},
   "outputs": [],
   "source": [
    "for i in range(400):\n",
    "    Y_hat = finder.forward_pass(X_train)\n",
    "    cost = finder.compute_cost(Y_train)\n",
    "    costs.append(cost)\n",
    "    cost.backward()\n",
    "    finder.back_pass()\n",
    "torch.cuda.empty_cache()\n",
    "plt.plot(costs)"
   ]
  },
  {
   "cell_type": "code",
   "execution_count": null,
   "id": "vocal-singapore",
   "metadata": {},
   "outputs": [],
   "source": [
    "finder.predict(X_train)"
   ]
  },
  {
   "cell_type": "code",
   "execution_count": 16,
   "id": "remarkable-difference",
   "metadata": {},
   "outputs": [
    {
     "ename": "SyntaxError",
     "evalue": "invalid syntax (<ipython-input-16-6157ca5bb2bf>, line 2)",
     "output_type": "error",
     "traceback": [
      "\u001b[1;36m  File \u001b[1;32m\"<ipython-input-16-6157ca5bb2bf>\"\u001b[1;36m, line \u001b[1;32m2\u001b[0m\n\u001b[1;33m    def __init__(self.features,learning_rate,device):\u001b[0m\n\u001b[1;37m                     ^\u001b[0m\n\u001b[1;31mSyntaxError\u001b[0m\u001b[1;31m:\u001b[0m invalid syntax\n"
     ]
    }
   ],
   "source": [
    "class Model2:\n",
    "    def __init__(self.features,learning_rate,device):\n",
    "        self.w1 = torch.rand((20,features),requires_grad=True,device=device)\n",
    "        self.b1 = torch.zeros((20,1),requires_grad=True,device=device)\n",
    "        self.w2 = torch.rand((7,20),requires_grad=True,device=device)\n",
    "        self.b2 = torch.zeros((7,1),requires_grad=True,device=device)\n",
    "        self.w3 = torch.rand((5,7),requires_grad=True,device=device)\n",
    "        self.b3 = torch.zeros((5,1),requires_grad=True,device=device)\n",
    "        self.w4 = torch.rand((1,5),requires_grad=True,device=device)\n",
    "        self.b4 = torch.zeros((1,1),requires_grad=True,device=device)\n",
    "        self.learning_rate = learning_rate\n",
    "    \n",
    "    def forward_pass(self,X):\n",
    "        self.Z1 = torch.matmul(self.w1,X.float()) + self.b1\n",
    "        self.A1 = self.sigmoidActivation(self.Z1)\n",
    "        \n",
    "        self.Z2 = torch.matmul(self.w2,self.A1) + self.b2\n",
    "        self.A2 = self.sigmoidActivation(self.Z2)\n",
    "        \n",
    "        self.Z3 = torch.matmul(self.w3,self.A2) + self.b3\n",
    "        self.A3 = self.sigmoidActivation(self.Z3)\n",
    "        \n",
    "        self.Z4 = torch.matmul(self.w4,self.A3) + self.b4\n",
    "        self.A4 = self.sigmoidActivation(self.Z4)\n",
    "        return self.A4\n",
    "    \n",
    "    def compute_cost(self,Y):\n",
    "        return -1/Y.shape[1]*( torch.matmul(Y.float(),torch.log(self.A4).T) + torch.matmul(1-Y.float(),torch.log(1-self.A4).T))\n",
    "    \n",
    "    def back_pass(self):      \n",
    "        with torch.no_grad():\n",
    "            self.w4 = self.w4 - self.learning_rate*self.w4.grad\n",
    "            self.b4 = self.b4 - self.learning_rate*self.b4.grad\n",
    "            self.w3 = self.w3 - self.learning_rate*self.w3.grad\n",
    "            self.b3 = self.b3 - self.learning_rate*self.b3.grad\n",
    "            self.w2 = self.w2 - self.learning_rate*self.w2.grad\n",
    "            self.b2 = self.b2 - self.learning_rate*self.b2.grad\n",
    "            self.w1 = self.w1 - self.learning_rate*self.w1.grad\n",
    "            self.b1 = self.b1 - self.learning_rate*self.b1.grad\n",
    "            \n",
    "            self.w1.grad.data.zero_()\n",
    "            \n",
    "        \n",
    "        self.w1.requires_grad=True\n",
    "        self.b1.requires_grad=True\n",
    "        self.w2.requires_grad=True\n",
    "        self.b2.requires_grad=True\n",
    "        self.w3.requires_grad=True\n",
    "        self.b3.requires_grad=True\n",
    "        self.w4.requires_grad=True\n",
    "        self.b4.requires_grad=True\n",
    "        \n",
    "        #self.w1.grad.data.zero_()\n",
    "        #self.b1.grad.zero_()\n",
    "        #self.w2.grad.zero_()\n",
    "        #self.b2.grad.zero_()\n",
    "        \n",
    "    def predict(self, X):\n",
    "        return self.forward_pass(X)>0.5\n",
    "    \n",
    "    def sigmoidActivation(self,Z):\n",
    "        return 1/(1+torch.exp(-Z))\n",
    "    \n",
    "    def leakyReLUActivation(self,Z):\n",
    "        return torch.maximum(0.001*Z,Z)\n",
    "    \n",
    "    def getParams(self):\n",
    "        return {'w1':self.w1, 'b1':self.b1,'w2':self.w2, 'b2':self.b2,\n",
    "                'w3':self.w3, 'b3':self.b3,'w4':self.w4, 'b4':self.b4,\n",
    "                'learning_rate':self.learning_rate\n",
    "               }\n",
    "    \n",
    "    \n",
    "    def getGrads(self):\n",
    "        return {'dw1':self.w1.grad, 'db1':self.b1.grad,'dw2':self.w2.grad, 'db2':self.b2.grad,\n",
    "               'dw3':self.w3.grad, 'db3':self.b3.grad,'dw4':self.w4.grad, 'db4':self.b4.grad\n",
    "               }"
   ]
  }
 ],
 "metadata": {
  "kernelspec": {
   "display_name": "Python 3",
   "language": "python",
   "name": "python3"
  },
  "language_info": {
   "codemirror_mode": {
    "name": "ipython",
    "version": 3
   },
   "file_extension": ".py",
   "mimetype": "text/x-python",
   "name": "python",
   "nbconvert_exporter": "python",
   "pygments_lexer": "ipython3",
   "version": "3.8.5"
  }
 },
 "nbformat": 4,
 "nbformat_minor": 5
}
